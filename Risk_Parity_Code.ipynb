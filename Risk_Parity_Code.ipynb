{
  "nbformat": 4,
  "nbformat_minor": 0,
  "metadata": {
    "colab": {
      "provenance": []
    },
    "kernelspec": {
      "name": "python3",
      "display_name": "Python 3"
    },
    "language_info": {
      "name": "python"
    }
  },
  "cells": [
    {
      "cell_type": "code",
      "execution_count": 1,
      "metadata": {
        "id": "zFRfbRm3PjZU"
      },
      "outputs": [],
      "source": [
        "import numpy as np\n",
        "import pandas as pd\n",
        "from scipy.optimize import minimize\n",
        "import yfinance as yf"
      ]
    },
    {
      "cell_type": "code",
      "source": [
        "comp = ['AAPL', 'MSFT', 'GOOG', 'TSLA', 'NVDA']\n",
        "data = yf.download(comp, start='2020-01-01', end='2021-01-01', interval='1d')"
      ],
      "metadata": {
        "colab": {
          "base_uri": "https://localhost:8080/"
        },
        "id": "1P04HIMmSNJ5",
        "outputId": "b2283d65-aff2-43ea-da15-8dd87548e11b"
      },
      "execution_count": 2,
      "outputs": [
        {
          "output_type": "stream",
          "name": "stdout",
          "text": [
            "[*********************100%%**********************]  5 of 5 completed\n"
          ]
        }
      ]
    },
    {
      "cell_type": "code",
      "source": [
        "data = data.dropna()\n",
        "data.shape"
      ],
      "metadata": {
        "colab": {
          "base_uri": "https://localhost:8080/"
        },
        "id": "rtt9CHwEL0rD",
        "outputId": "6fa67522-c9e0-415d-a255-5aa0bfbe2617"
      },
      "execution_count": 3,
      "outputs": [
        {
          "output_type": "execute_result",
          "data": {
            "text/plain": [
              "(253, 30)"
            ]
          },
          "metadata": {},
          "execution_count": 3
        }
      ]
    },
    {
      "cell_type": "code",
      "source": [
        "close = data.Close.values\n",
        "close.shape"
      ],
      "metadata": {
        "colab": {
          "base_uri": "https://localhost:8080/"
        },
        "id": "5SV6fproSPnQ",
        "outputId": "3fd3c57e-8be2-4f01-ebd4-8ea98e8f2d9a"
      },
      "execution_count": 4,
      "outputs": [
        {
          "output_type": "execute_result",
          "data": {
            "text/plain": [
              "(253, 5)"
            ]
          },
          "metadata": {},
          "execution_count": 4
        }
      ]
    },
    {
      "cell_type": "code",
      "source": [
        "cov = np.cov(close,rowvar=False)\n",
        "cov.shape"
      ],
      "metadata": {
        "colab": {
          "base_uri": "https://localhost:8080/"
        },
        "id": "cp0zA5QHEfrc",
        "outputId": "2a07958b-c29b-4a53-a97d-48a8c6e8b43f"
      },
      "execution_count": 5,
      "outputs": [
        {
          "output_type": "execute_result",
          "data": {
            "text/plain": [
              "(5, 5)"
            ]
          },
          "metadata": {},
          "execution_count": 5
        }
      ]
    },
    {
      "cell_type": "code",
      "source": [
        "def obj(w, V=cov):\n",
        "    '''\n",
        "    Construct the objective funcion\n",
        "    '''\n",
        "    w = np.array(w)\n",
        "    sigma = np.sqrt(w.T @ V @ w)\n",
        "    return np.sum((w*V@w - sigma/len(w))**2)\n",
        "\n",
        "# Define the inequality constraint w_i >= 0 for all weights w_i\n",
        "ineq_cons = {'type': 'ineq', 'fun': lambda w: w+1e-9}\n",
        "\n",
        "# Define the equality constraint sum(w_i) = 1\n",
        "eq_cons = {'type': 'eq', 'fun': lambda w: np.sum(w) - 1}\n",
        "\n",
        "# Initial guess should sum to 1\n",
        "x0 = np.ones(len(cov)) / len(cov)\n",
        "\n",
        "# Run the minimization using SLSQP method\n",
        "result = minimize(obj, x0=x0, method='SLSQP', constraints=[ineq_cons, eq_cons], options={'ftol': 1e-9, 'disp': True})\n",
        "\n",
        "print(result.x)\n"
      ],
      "metadata": {
        "colab": {
          "base_uri": "https://localhost:8080/"
        },
        "id": "BSr2irKSGVXh",
        "outputId": "5e029fc4-dea8-4c31-f0c1-7ba7e4f1c26b"
      },
      "execution_count": 6,
      "outputs": [
        {
          "output_type": "stream",
          "name": "stdout",
          "text": [
            "Optimization terminated successfully    (Exit mode 0)\n",
            "            Current function value: 58267.29698772918\n",
            "            Iterations: 13\n",
            "            Function evaluations: 87\n",
            "            Gradient evaluations: 12\n",
            "[0.16899206 0.46696287 0.17046558 0.12777259 0.0658069 ]\n"
          ]
        }
      ]
    }
  ]
}