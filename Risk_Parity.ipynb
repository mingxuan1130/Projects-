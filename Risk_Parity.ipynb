{
  "nbformat": 4,
  "nbformat_minor": 0,
  "metadata": {
    "colab": {
      "provenance": []
    },
    "kernelspec": {
      "name": "python3",
      "display_name": "Python 3"
    },
    "language_info": {
      "name": "python"
    }
  },
  "cells": [
    {
      "cell_type": "markdown",
      "source": [
        "# Covariance Matrix\n",
        "\n",
        "## Covariance Matrix of Vectors\n",
        "\n",
        "*Intuition*: Covariance measures the degree to which two random variables vary together. If they tend to increase or decrease together, then the covariance is positive. Conversely, if one variable tends to increase when the other decreases, the covariance is negative.\n",
        "\n",
        "*Calculation*: Suppose $ \\mathbf{v} $ represents the returns of an index (a portfolio) with some assets such that\n",
        "$$\n",
        "\\mathbf{v} =\n",
        "\\begin{pmatrix}\n",
        "v_1 \\\\\n",
        "v_2 \\\\\n",
        "\\vdots \\\\\n",
        "v_n\n",
        "\\end{pmatrix},\n",
        "$$\n",
        "and each element of $ \\mathbf{v} $ corresponds to the return of an asset. Then, the covariance matrix $ \\mathbf{C} $ of the returns can be calculated as:\n",
        "$$\n",
        "\\mathbf{C} = \\frac{1}{n-1} (\\mathbf{v} - \\mathbf{\\bar{v}}) (\\mathbf{v} - \\mathbf{\\bar{v}})^T,\n",
        "$$\n",
        "where $ \\mathbf{\\bar{v}} $ is a vector of mean returns repeated for each asset. This matrix is the covariance matrix of the returns, not the standardized returns. Intuitively, if two assets $ v_1 $ and $ v_2 $ are both above or both below their respective averages, then they are moving in the same direction, and their covariance should be positive.\n",
        "\n",
        "## Covariance Matrix of Matrices\n",
        "\n",
        "Similarly to vectors, a matrix can be understood as a combination of vectors. For instance:\n",
        "\n",
        "$$\n",
        "V = \\begin{bmatrix}\n",
        "| & | & & | \\\\\n",
        "\\mathbf{v}_1 & \\mathbf{v}_2 & \\cdots & \\mathbf{v}_n \\\\\n",
        "| & | & & |\n",
        "\\end{bmatrix},\n",
        "$$\n",
        "where each column vector $ \\mathbf{v}_i $ can be treated in the same way as in the vector case above. The covariance matrix of a matrix can be calculated by first centering each column vector by subtracting the mean, and then performing multiplication and division by $ n-1 $. Therefore,\n",
        "\n",
        "$$\n",
        "C = \\frac{1}{n-1} \\begin{bmatrix}\n",
        "| & | & & | \\\\\n",
        "v_1 - \\bar{v} & v_2 - \\bar{v} & \\cdots & v_n - \\bar{v} \\\\\n",
        "| & | & & |\n",
        "\\end{bmatrix}\n",
        "\\begin{bmatrix}\n",
        "--- & (v_1 - \\bar{v})^T & --- \\\\\n",
        "--- & (v_2 - \\bar{v})^T & --- \\\\\n",
        " & \\vdots & \\\\\n",
        "--- & (v_n - \\bar{v})^T & ---\n",
        "\\end{bmatrix}\n",
        "$$\n",
        "Rather than representing the movement of the return of each individual asset, the covariance matrix now represents the collective movement of the **index**, i.e., $V_{2,1} = V_{1,2}$ are meansuring the relative movement of the return of **indices** $v_1$ and $v_2$ .\n",
        "\n"
      ],
      "metadata": {
        "id": "xFt1qew8aSDs"
      }
    },
    {
      "cell_type": "markdown",
      "source": [
        "## Marginal Risk Contribution(MRC)\n",
        "\n",
        "Given a covariance matrix $V$, and a portfolio of indices represented as $\\mathbf{w} = \\begin{pmatrix} w_1 \\\\ w_2 \\\\ \\vdots \\\\ w_n \\end{pmatrix}$, where $w_1, \\dots, w_n$ are the weights of each index, the total risk (variance) of this portfolio is calculated by the formula: $w^{T}Vw$. This calculation assesses the total variance of the portfolio, considering both individual asset variances and covariances between assets.\n",
        "\n",
        "The Marginal Risk Contribution (MRC) of each asset in the portfolio is the contribution of that asset to the total risk. It is calculated as the partial derivative of the portfolio's standard deviation with respect to the weight of each asset. The MRC for the $i$th asset can be expressed as:\n",
        "\n",
        "$$\n",
        "MRC_i = \\frac{\\partial \\sigma_{total}}{\\partial w_i} = \\frac{1}{\\sigma_{total}}(Vw)_i\n",
        "$$\n",
        "\n",
        "where $\\sigma_{total}$ is the standard deviation of the total portfolio, calculated as the square root of $w^{T}Vw$, and $(Vw)_i$ is the $i$th element of the product $Vw$. Intuitivly, $(Vw)_i$ tells us how much risk the $i$ index contibutes, by dividing by the total risk, it tells us how much proportion it contribute to the total risk. Thus, the MRC essentially measures how much the risk of the portfolio would change with a small change in the weight of each asset.\n",
        "\n",
        "\n"
      ],
      "metadata": {
        "id": "6WN12YdXvJSd"
      }
    },
    {
      "cell_type": "markdown",
      "source": [
        "## Total Risk Contribution (TRC) and Risk Parity\n",
        "\n",
        "Total Risk in the context of a portfolio is typically measured as the standard deviation of the portfolio, which is represented mathematically as $ \\sqrt{w^{T}Vw} $, where $w$ is the weight vector and $V$ is the covariance matrix. The sum of Marginal Risk Contributions $MRCs$ does not directly equate to total risk, as $MRCs$ represent contributions to the derivative of the total risk, not the risk itself.\n",
        "\n",
        "The concept of Risk Parity in portfolio management is about allocating weights to the assets such that each asset contributes equally to the total risk of the portfolio. This approach involves adjusting weights to ensure that the risk contributions from all assets are balanced. The objective is not to minimize the total risk per se, but rather to achieve an equal distribution of risk contributions among all assets in the portfolio.\n",
        "\n",
        "In practice, achieving Risk Parity often involves solving an optimization problem where the goal is to find portfolio weights that equalize the risk contributions of each asset. This is different from minimizing total risk; it's about distributing risk evenly across the portfolio components."
      ],
      "metadata": {
        "id": "qstX8RmI87zX"
      }
    },
    {
      "cell_type": "code",
      "source": [],
      "metadata": {
        "id": "zTFulKgPAU3T"
      },
      "execution_count": null,
      "outputs": []
    }
  ]
}